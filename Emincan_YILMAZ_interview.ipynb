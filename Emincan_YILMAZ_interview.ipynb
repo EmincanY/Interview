{
 "cells": [
  {
   "cell_type": "code",
   "execution_count": null,
   "metadata": {},
   "outputs": [],
   "source": [
    "import numpy as np\n",
    "import pandas as pd\n",
    "\n",
    "import matplotlib.pyplot as plt\n",
    "import seaborn as sns"
   ]
  },
  {
   "cell_type": "code",
   "execution_count": null,
   "metadata": {},
   "outputs": [],
   "source": [
    "pd.set_option('display.max_rows' , 60)"
   ]
  },
  {
   "cell_type": "code",
   "execution_count": null,
   "metadata": {},
   "outputs": [],
   "source": [
    "df = pd.read_csv('municipality_bus_utilization.csv')\n",
    "df.head(10)"
   ]
  },
  {
   "cell_type": "code",
   "execution_count": null,
   "metadata": {},
   "outputs": [],
   "source": [
    "df.tail(10)"
   ]
  },
  {
   "cell_type": "code",
   "execution_count": null,
   "metadata": {},
   "outputs": [],
   "source": [
    "df.shape"
   ]
  },
  {
   "cell_type": "code",
   "execution_count": null,
   "metadata": {},
   "outputs": [],
   "source": [
    "df['free_to_use'] = df['total_capacity'] - df['usage']\n",
    "df"
   ]
  },
  {
   "cell_type": "code",
   "execution_count": null,
   "metadata": {},
   "outputs": [],
   "source": [
    "(df['free_to_use'] <= 0).sum()"
   ]
  },
  {
   "cell_type": "code",
   "execution_count": null,
   "metadata": {},
   "outputs": [],
   "source": [
    "(df['free_to_use'] < 0 ).sum()"
   ]
  },
  {
   "cell_type": "code",
   "execution_count": null,
   "metadata": {},
   "outputs": [],
   "source": [
    "df[df['free_to_use'] < 0 ]"
   ]
  },
  {
   "cell_type": "code",
   "execution_count": null,
   "metadata": {},
   "outputs": [],
   "source": [
    "df['free_to_use'].min()"
   ]
  },
  {
   "cell_type": "code",
   "execution_count": null,
   "metadata": {},
   "outputs": [],
   "source": [
    "df[df['free_to_use'] < 0 ]['municipality_id'].value_counts() # All wrong data in same municipality. Or maybe municipality's total_capacity may be wrong. \n",
    "                                                             # Maybe everything is right, the municipality needs a bigger capacity"
   ]
  },
  {
   "cell_type": "code",
   "execution_count": null,
   "metadata": {},
   "outputs": [],
   "source": [
    "df.info()"
   ]
  },
  {
   "cell_type": "code",
   "execution_count": null,
   "metadata": {},
   "outputs": [],
   "source": [
    "df = df.sort_values('timestamp' , ascending=True)\n",
    "df"
   ]
  },
  {
   "cell_type": "code",
   "execution_count": null,
   "metadata": {},
   "outputs": [],
   "source": [
    "df['timestamp'].value_counts(dropna=False) # There may be 2 misspelled data"
   ]
  },
  {
   "cell_type": "code",
   "execution_count": null,
   "metadata": {},
   "outputs": [],
   "source": [
    "df[df['timestamp'] == '2017-06-16 14:27:13']"
   ]
  },
  {
   "cell_type": "code",
   "execution_count": null,
   "metadata": {},
   "outputs": [],
   "source": [
    "df[df['timestamp'] == '2017-06-16 14:34:14']"
   ]
  },
  {
   "cell_type": "code",
   "execution_count": null,
   "metadata": {},
   "outputs": [],
   "source": [
    "df[df['timestamp'] == '2017-08-11 08:19:39']"
   ]
  },
  {
   "cell_type": "code",
   "execution_count": null,
   "metadata": {},
   "outputs": [],
   "source": [
    "df[df['timestamp'] == '2017-08-11 08:25:43']"
   ]
  },
  {
   "cell_type": "code",
   "execution_count": null,
   "metadata": {},
   "outputs": [],
   "source": [
    "# df[df['timestamp'] == '2017-06-16 14:27:13']['timestamp'] = '2017-06-16 14:34:14'"
   ]
  },
  {
   "cell_type": "code",
   "execution_count": null,
   "metadata": {},
   "outputs": [],
   "source": [
    "df.loc[df['timestamp'] == '2017-06-16 14:27:13', 'timestamp'] = '2017-06-16 14:34:14'\n",
    "df.loc[df['timestamp'] == '2017-08-11 08:19:39', 'timestamp'] = '2017-08-11 08:25:43' # Yes, it was a typo and it has been corrected."
   ]
  },
  {
   "cell_type": "code",
   "execution_count": null,
   "metadata": {},
   "outputs": [],
   "source": [
    "df['timestamp'].value_counts(dropna=False)"
   ]
  },
  {
   "cell_type": "code",
   "execution_count": null,
   "metadata": {},
   "outputs": [],
   "source": [
    "df['municipality_id'].value_counts(dropna=False)"
   ]
  },
  {
   "cell_type": "code",
   "execution_count": null,
   "metadata": {},
   "outputs": [],
   "source": [
    "df['total_capacity'].value_counts(dropna=False)"
   ]
  },
  {
   "cell_type": "code",
   "execution_count": null,
   "metadata": {},
   "outputs": [],
   "source": [
    "df['usage'].value_counts(dropna=False)"
   ]
  },
  {
   "cell_type": "code",
   "execution_count": null,
   "metadata": {},
   "outputs": [],
   "source": [
    "df['timestamp'] = df['timestamp'].astype('datetime64')"
   ]
  },
  {
   "cell_type": "code",
   "execution_count": null,
   "metadata": {},
   "outputs": [],
   "source": [
    "df.info()"
   ]
  },
  {
   "cell_type": "code",
   "execution_count": null,
   "metadata": {},
   "outputs": [],
   "source": [
    "# for i in range(df.shape[0]):\n",
    "#     if df['timestamp'][i].minute == 0 :\n",
    "#         print(i)\n",
    "\n",
    "\n",
    "# # Indexes with timestamps at 0 minutes \n",
    "# # 3400 to 12659"
   ]
  },
  {
   "cell_type": "code",
   "execution_count": null,
   "metadata": {},
   "outputs": [],
   "source": [
    "df.iloc[3400,:]"
   ]
  },
  {
   "cell_type": "code",
   "execution_count": null,
   "metadata": {},
   "outputs": [],
   "source": [
    "df.iloc[12659,:]"
   ]
  },
  {
   "cell_type": "code",
   "execution_count": null,
   "metadata": {},
   "outputs": [],
   "source": [
    "df.iloc[13039,:]"
   ]
  },
  {
   "cell_type": "code",
   "execution_count": null,
   "metadata": {},
   "outputs": [],
   "source": [
    "# for i in range(df.shape[0]):\n",
    "#     if df['timestamp'][i].hour == 7 :\n",
    "#         print(i)"
   ]
  },
  {
   "cell_type": "code",
   "execution_count": null,
   "metadata": {},
   "outputs": [],
   "source": [
    "df['timestamp'][0]"
   ]
  },
  {
   "cell_type": "code",
   "execution_count": null,
   "metadata": {},
   "outputs": [],
   "source": [
    "df['month'] = df['timestamp'].apply(lambda x : x.month)\n",
    "df['day'] = df['timestamp'].apply(lambda x : x.day)\n",
    "df['hour'] = df['timestamp'].apply(lambda x : x.hour)\n",
    "df['min'] = df['timestamp'].apply(lambda x : x.minute)"
   ]
  },
  {
   "cell_type": "code",
   "execution_count": null,
   "metadata": {},
   "outputs": [],
   "source": [
    "df['hour'].value_counts(sort=True)"
   ]
  },
  {
   "cell_type": "code",
   "execution_count": null,
   "metadata": {},
   "outputs": [],
   "source": [
    "df['timestamp'] = df['timestamp'] + pd.Timedelta(minutes=5 , seconds=10) \n",
    "# By adding 5 minutes and 10 seconds, I included the border measurements in the next hours. In this way, I achieved a more uniform distribution."
   ]
  },
  {
   "cell_type": "code",
   "execution_count": null,
   "metadata": {},
   "outputs": [],
   "source": [
    "df['month'] = df['timestamp'].apply(lambda x : x.month)\n",
    "df['day'] = df['timestamp'].apply(lambda x : x.day)\n",
    "df['hour'] = df['timestamp'].apply(lambda x : x.hour)\n",
    "df['min'] = df['timestamp'].apply(lambda x : x.minute)"
   ]
  },
  {
   "cell_type": "code",
   "execution_count": null,
   "metadata": {},
   "outputs": [],
   "source": [
    "df['hour'].value_counts() # Almost perfect now "
   ]
  },
  {
   "cell_type": "code",
   "execution_count": null,
   "metadata": {},
   "outputs": [],
   "source": [
    "df"
   ]
  },
  {
   "cell_type": "code",
   "execution_count": null,
   "metadata": {},
   "outputs": [],
   "source": [
    "plt.figure(figsize=(12,6))\n",
    "\n",
    "df.groupby([\"month\",\"day\"])[\"usage\"].sum().plot();"
   ]
  },
  {
   "cell_type": "code",
   "execution_count": null,
   "metadata": {},
   "outputs": [],
   "source": [
    "for x in [6,7,8]:\n",
    "    for y in range(1,31):\n",
    "        if df[(df['month'] == x) & (df['day'] == y)]['usage'].sum() <= 0 :\n",
    "            print(f'{x}.Month {y}.day nan') # We have 4 nan days. ### 6-20 , 6-21 , 8-3 , 8-4"
   ]
  },
  {
   "cell_type": "code",
   "execution_count": null,
   "metadata": {},
   "outputs": [],
   "source": [
    "df[(df['month'] == 6) & (df['day'] == 1)]['usage'].sum() # One of the nan days"
   ]
  },
  {
   "cell_type": "code",
   "execution_count": null,
   "metadata": {},
   "outputs": [],
   "source": [
    "df[(df['month'] == 6) & (df['day'] == 30)]['usage'].sum() # The day have max usages."
   ]
  },
  {
   "cell_type": "code",
   "execution_count": null,
   "metadata": {},
   "outputs": [],
   "source": [
    "df[(df['month'] == 6) & (df['day'] == 30)] # 340 data ??? It should have been 170 or 180"
   ]
  },
  {
   "cell_type": "code",
   "execution_count": null,
   "metadata": {},
   "outputs": [],
   "source": [
    "df.groupby(['month','day']).count() # We have 72 days at total.(4 of them nan)"
   ]
  },
  {
   "cell_type": "code",
   "execution_count": null,
   "metadata": {},
   "outputs": [],
   "source": [
    "df.groupby(['month','day']).count()['timestamp'].unique() # All of them should have been 180 or 170. Date with 340 data probably doubled"
   ]
  },
  {
   "cell_type": "code",
   "execution_count": null,
   "metadata": {},
   "outputs": [],
   "source": [
    "df.groupby(['month','day']).count()[df.groupby(['month','day']).count()['timestamp'] == 180]"
   ]
  },
  {
   "cell_type": "code",
   "execution_count": null,
   "metadata": {},
   "outputs": [],
   "source": [
    "df[(df['month'] == 6) & (df['day'] == 4)].head(50) # An example of the day with 180 data"
   ]
  },
  {
   "cell_type": "code",
   "execution_count": null,
   "metadata": {},
   "outputs": [],
   "source": [
    "df[(df['month'] == 6) & (df['day'] == 28)].head(50) # An example of the day with 170 data"
   ]
  },
  {
   "cell_type": "code",
   "execution_count": null,
   "metadata": {},
   "outputs": [],
   "source": [
    "df.groupby(['month','day']).count()[df.groupby(['month','day']).count()['timestamp'] == 170]"
   ]
  },
  {
   "cell_type": "code",
   "execution_count": null,
   "metadata": {},
   "outputs": [],
   "source": [
    "df.groupby(['month','day']).count()[df.groupby(['month','day']).count()['timestamp'] == 340] # But the reason why it is 340 instead of 170 should be investigated\n",
    "                                                                                             # Bus services may have been doubled as it coincided with the middle of summer.\n",
    "                                                                                             # But still, it is wrong to keep records 2 times in a row. We have to drop one of these 2 data"
   ]
  },
  {
   "cell_type": "code",
   "execution_count": null,
   "metadata": {},
   "outputs": [],
   "source": [
    "df[(df['month'] == 6) & (df['day'] == 30)].head(30) # It seems clear that 2 measurements were made on the 30th day of June, with an interval of less than 1 minute in a row."
   ]
  },
  {
   "cell_type": "code",
   "execution_count": null,
   "metadata": {},
   "outputs": [],
   "source": [
    "plt.figure(figsize=(12,6))\n",
    "\n",
    "df.groupby([\"month\",\"day\"])[\"usage\"].mean().plot();"
   ]
  },
  {
   "cell_type": "code",
   "execution_count": null,
   "metadata": {},
   "outputs": [],
   "source": [
    "df[(df['month'] == 6) & (df['day'] == 30)]['timestamp'].unique()"
   ]
  },
  {
   "cell_type": "code",
   "execution_count": null,
   "metadata": {},
   "outputs": [],
   "source": [
    "drop_stamptimes = df[(df['month'] == 6) & (df['day'] == 30)]['timestamp'].unique()[[0,2,4,6,8,10,12,14,16,18,20,22,24,26,28,30,32]]\n",
    "drop_stamptimes"
   ]
  },
  {
   "cell_type": "code",
   "execution_count": null,
   "metadata": {},
   "outputs": [],
   "source": [
    "drop_indexes = df[df['timestamp'].isin(drop_stamptimes)].index\n",
    "drop_indexes"
   ]
  },
  {
   "cell_type": "code",
   "execution_count": null,
   "metadata": {},
   "outputs": [],
   "source": [
    "df.drop(drop_indexes , axis = 0 , inplace = True)"
   ]
  },
  {
   "cell_type": "code",
   "execution_count": null,
   "metadata": {},
   "outputs": [],
   "source": [
    "df.reset_index(drop=True)"
   ]
  },
  {
   "cell_type": "code",
   "execution_count": null,
   "metadata": {},
   "outputs": [],
   "source": [
    "df.groupby(['month','day']).count()['timestamp'].unique()"
   ]
  },
  {
   "cell_type": "code",
   "execution_count": null,
   "metadata": {},
   "outputs": [],
   "source": [
    "df['hour'].value_counts() # Still perfect, nice !"
   ]
  },
  {
   "cell_type": "code",
   "execution_count": null,
   "metadata": {},
   "outputs": [],
   "source": [
    "plt.figure(figsize=(12,6))\n",
    "\n",
    "df.groupby([\"month\",\"day\",'hour'])[\"usage\"].sum().plot();"
   ]
  },
  {
   "cell_type": "code",
   "execution_count": null,
   "metadata": {},
   "outputs": [],
   "source": [
    "df.groupby([\"month\",\"day\",'hour'])[\"usage\"].sum().describe()"
   ]
  },
  {
   "cell_type": "code",
   "execution_count": null,
   "metadata": {},
   "outputs": [],
   "source": [
    "nan_hours_counter = 0\n",
    "risky_hours_counter = 0\n",
    "\n",
    "for month in range(6,9):\n",
    "        for day in range(1,31):\n",
    "            if ((month == 6) & (day < 4)) | ((month == 8) & (day > 19)) : \n",
    "                pass\n",
    "            else:\n",
    "                for hour in range(8,17):\n",
    "                    total_usage = df[(df['month'] == month) & (df['day'] == day) & (df['hour'] == hour)]['usage'].sum()\n",
    "                    if total_usage == 0 :\n",
    "                        print(f'Warning ! {month}.month {day}.day and {hour}.hour has 0 total usage and nan hour !!!')\n",
    "                        nan_hours_counter += 1\n",
    "                    elif (total_usage > 24000) | (total_usage < 5000) :\n",
    "                        print(f'{month}.month {day}.day and {hour}.hour has {total_usage} total usage be careful') # Anormal day and hours.\n",
    "                        risky_hours_counter += 1\n",
    "\n",
    "print(f\"Total nan hours : {nan_hours_counter}\")\n",
    "print(f\"Total risky hours : {risky_hours_counter}\")\n",
    "\n",
    "# Total 4 day nan.\n",
    "# Total 36 hours nan(4x9 hours per day.)"
   ]
  },
  {
   "cell_type": "code",
   "execution_count": null,
   "metadata": {},
   "outputs": [],
   "source": [
    "df[(df['month'] == 6) & (df['day'] == 1) & (df['hour'] == 8)]['usage'].sum() # One of the nan hours."
   ]
  },
  {
   "cell_type": "code",
   "execution_count": null,
   "metadata": {},
   "outputs": [],
   "source": [
    "df[(df['month'] == 6) & (df['day'] == 27) & (df['hour'] == 14)]['usage'].sum() # One of the most usage hours"
   ]
  },
  {
   "cell_type": "code",
   "execution_count": null,
   "metadata": {},
   "outputs": [],
   "source": [
    "df[(df['month'] == 7) & (df['day'] == 25) & (df['hour'] == 8)]['usage'].sum() # One of the less usage hours"
   ]
  },
  {
   "cell_type": "code",
   "execution_count": null,
   "metadata": {},
   "outputs": [],
   "source": [
    "df[(df['month'] == 6) & (df['day'] == 30)].head(30) # 30.th june normal now."
   ]
  },
  {
   "attachments": {},
   "cell_type": "markdown",
   "metadata": {},
   "source": [
    "# Interpolation (Filling nan hours)"
   ]
  },
  {
   "cell_type": "code",
   "execution_count": null,
   "metadata": {},
   "outputs": [],
   "source": [
    "# 6.Month 20-21 , 8.Month 3-4\n",
    "\n",
    " # OR\n",
    "\n",
    "# 6.Month 20-21 , 7.Month 31 , 8.Month 3-4"
   ]
  },
  {
   "cell_type": "code",
   "execution_count": null,
   "metadata": {},
   "outputs": [],
   "source": [
    "# Municipality_id and Total capacities\n",
    "# 9 --> 1332\n",
    "# 8 --> 2947\n",
    "# 7 --> 2019\n",
    "# 6 --> 3113\n",
    "# 5 --> 587\n",
    "# 4 --> 3893\n",
    "# 3 --> 1930\n",
    "# 2 --> 697\n",
    "# 1 --> 397\n",
    "# 0 --> 2813"
   ]
  },
  {
   "cell_type": "code",
   "execution_count": null,
   "metadata": {},
   "outputs": [],
   "source": [
    "df.set_index('timestamp' , drop=True , inplace=True)"
   ]
  },
  {
   "cell_type": "code",
   "execution_count": null,
   "metadata": {},
   "outputs": [],
   "source": [
    "df"
   ]
  },
  {
   "cell_type": "code",
   "execution_count": null,
   "metadata": {},
   "outputs": [],
   "source": [
    "df[df['municipality_id'] == 9]['total_capacity'].unique()"
   ]
  },
  {
   "cell_type": "code",
   "execution_count": null,
   "metadata": {},
   "outputs": [],
   "source": [
    "# Define the specific dates to include\n",
    "specific_dates = ['2017-06-20','2017-06-21',\n",
    "                  '2017-08-03','2017-08-04']\n",
    "\n",
    "# Create a list to store the dataframes\n",
    "df_list = []\n",
    "\n",
    "# Loop through the specific dates\n",
    "for date in specific_dates:\n",
    "    # Create timestamp range for each day\n",
    "    timestamp_range = pd.date_range(date + ' 08:00:00', date + ' 16:30:00', freq='30T')\n",
    "\n",
    "    # Get the unique municipality ids for that date\n",
    "    municipality_ids = df['municipality_id'].unique()\n",
    "    \n",
    "    # Loop through the municipality_ids\n",
    "    for municipality_id in municipality_ids:\n",
    "        # Create a new dataframe for each municipality_id\n",
    "        df_temp = pd.DataFrame(index=timestamp_range)\n",
    "        df_temp['municipality_id'] = municipality_id\n",
    "        df_temp = df_temp.join(df.loc[(df['municipality_id'] == municipality_id) & (df.index.date == date), 'usage'])\n",
    "        # Append the dataframe to the list\n",
    "        df_list.append(df_temp)\n",
    "\n",
    "# Concatenate the dataframes together\n",
    "result_df = pd.concat(df_list)\n",
    "\n",
    "result_df = result_df.sort_index()"
   ]
  },
  {
   "cell_type": "code",
   "execution_count": null,
   "metadata": {},
   "outputs": [],
   "source": [
    "result_df"
   ]
  },
  {
   "cell_type": "code",
   "execution_count": null,
   "metadata": {},
   "outputs": [],
   "source": [
    "df = pd.concat([df,result_df],ignore_index=False).sort_index()\n",
    "df"
   ]
  },
  {
   "cell_type": "code",
   "execution_count": null,
   "metadata": {},
   "outputs": [],
   "source": [
    "# df['total_capacity'] = df.groupby(\"municipality_id\")['total_capacity'].apply(lambda x: x.fillna(method='ffill'))\n",
    "# df['total_capacity'] = df.groupby(\"municipality_id\")['total_capacity'].apply(lambda x: x.fillna(method='bfill'))"
   ]
  },
  {
   "cell_type": "code",
   "execution_count": null,
   "metadata": {},
   "outputs": [],
   "source": [
    "df['total_capacity'] = df.replace({'municipality_id': {9: 1332, 8: 2947, 7: 2019, 6: 3113, 5: 587, 4: 3893, 3: 1930, 2: 687, 1: 397, 0: 2813}})['municipality_id']"
   ]
  },
  {
   "cell_type": "code",
   "execution_count": null,
   "metadata": {},
   "outputs": [],
   "source": [
    "df"
   ]
  },
  {
   "cell_type": "code",
   "execution_count": null,
   "metadata": {},
   "outputs": [],
   "source": [
    "df[df['municipality_id'] == 9]['total_capacity'].unique()"
   ]
  },
  {
   "cell_type": "code",
   "execution_count": null,
   "metadata": {},
   "outputs": [],
   "source": [
    "df['month'] = df.index.month\n",
    "df['day'] = df.index.day\n",
    "df['hour'] = df.index.hour\n",
    "df['min'] = df.index.minute"
   ]
  },
  {
   "cell_type": "code",
   "execution_count": null,
   "metadata": {},
   "outputs": [],
   "source": [
    "df"
   ]
  },
  {
   "cell_type": "code",
   "execution_count": null,
   "metadata": {},
   "outputs": [],
   "source": [
    "df.drop('free_to_use' , axis = 1 , inplace = True)"
   ]
  },
  {
   "cell_type": "code",
   "execution_count": null,
   "metadata": {},
   "outputs": [],
   "source": [
    "df"
   ]
  },
  {
   "cell_type": "code",
   "execution_count": null,
   "metadata": {},
   "outputs": [],
   "source": [
    "df.isna().sum()"
   ]
  },
  {
   "cell_type": "code",
   "execution_count": null,
   "metadata": {},
   "outputs": [],
   "source": [
    "df_0 = df[df['municipality_id'] == 0][['usage']]\n",
    "df_1 = df[df['municipality_id'] == 1][['usage']]\n",
    "df_2 = df[df['municipality_id'] == 2][['usage']]\n",
    "df_3 = df[df['municipality_id'] == 3][['usage']]\n",
    "df_4 = df[df['municipality_id'] == 4][['usage']]\n",
    "df_5 = df[df['municipality_id'] == 5][['usage']]\n",
    "df_6 = df[df['municipality_id'] == 6][['usage']]\n",
    "df_7 = df[df['municipality_id'] == 7][['usage']]\n",
    "df_8 = df[df['municipality_id'] == 8][['usage']]\n",
    "df_9 = df[df['municipality_id'] == 9][['usage']]"
   ]
  },
  {
   "cell_type": "code",
   "execution_count": null,
   "metadata": {},
   "outputs": [],
   "source": [
    "df_0.shape"
   ]
  },
  {
   "cell_type": "code",
   "execution_count": null,
   "metadata": {},
   "outputs": [],
   "source": [
    "df_0"
   ]
  },
  {
   "cell_type": "code",
   "execution_count": null,
   "metadata": {},
   "outputs": [],
   "source": [
    "df_0.isna().sum() "
   ]
  },
  {
   "cell_type": "code",
   "execution_count": null,
   "metadata": {},
   "outputs": [],
   "source": [
    "df_0.index = df_0.index.floor('H')  # df_0.index = pd.to_datetime(df_0.index, format='%Y-%m-%d %H:%M:%S').strftime('%Y-%m-%d %H')\n",
    "df_0 = (df_0.groupby(df_0.index).max()).replace(0,np.nan) # df_0 = df_0.resample('H').max()\n",
    "\n",
    "df_1.index = df_1.index.floor('H') \n",
    "df_1 = (df_1.groupby(df_1.index).max()).replace(0,np.nan)\n",
    "\n",
    "df_2.index = df_2.index.floor('H') \n",
    "df_2 = (df_2.groupby(df_2.index).max()).replace(0,np.nan)\n",
    "\n",
    "df_3.index = df_3.index.floor('H') \n",
    "df_3 = (df_3.groupby(df_3.index).max()).replace(0,np.nan)\n",
    "\n",
    "df_4.index = df_4.index.floor('H') \n",
    "df_4 = (df_4.groupby(df_4.index).max()).replace(0,np.nan)\n",
    "\n",
    "df_5.index = df_5.index.floor('H') \n",
    "df_5 = (df_5.groupby(df_5.index).max()).replace(0,np.nan)\n",
    "\n",
    "df_6.index = df_6.index.floor('H') \n",
    "df_6 = (df_6.groupby(df_6.index).max()).replace(0,np.nan)\n",
    "\n",
    "df_7.index = df_7.index.floor('H') \n",
    "df_7 = (df_7.groupby(df_7.index).max()).replace(0,np.nan)\n",
    "\n",
    "df_8.index = df_8.index.floor('H') \n",
    "df_8 = (df_8.groupby(df_8.index).max()).replace(0,np.nan)\n",
    "\n",
    "df_9.index = df_9.index.floor('H') \n",
    "df_9 = (df_9.groupby(df_9.index).max()).replace(0,np.nan)"
   ]
  },
  {
   "cell_type": "code",
   "execution_count": null,
   "metadata": {},
   "outputs": [],
   "source": [
    "# df_0.index = df_0.index.floor('H')  # df_0.index = pd.to_datetime(df_0.index, format='%Y-%m-%d %H:%M:%S').strftime('%Y-%m-%d %H')\n",
    "# df_0 = (df_0.groupby(df_0.index).mean()).replace(0,np.nan) # df_0 = df_0.resample('H').mean()\n",
    "\n",
    "# df_1.index = df_1.index.floor('H') \n",
    "# df_1 = (df_1.groupby(df_1.index).mean()).replace(0,np.nan)\n",
    "\n",
    "# df_2.index = df_2.index.floor('H') \n",
    "# df_2 = (df_2.groupby(df_2.index).mean()).replace(0,np.nan)\n",
    "\n",
    "# df_3.index = df_3.index.floor('H') \n",
    "# df_3 = (df_3.groupby(df_3.index).mean()).replace(0,np.nan)\n",
    "\n",
    "# df_4.index = df_4.index.floor('H') \n",
    "# df_4 = (df_4.groupby(df_4.index).mean()).replace(0,np.nan)\n",
    "\n",
    "# df_5.index = df_5.index.floor('H') \n",
    "# df_5 = (df_5.groupby(df_5.index).mean()).replace(0,np.nan)\n",
    "\n",
    "# df_6.index = df_6.index.floor('H') \n",
    "# df_6 = (df_6.groupby(df_6.index).mean()).replace(0,np.nan)\n",
    "\n",
    "# df_7.index = df_7.index.floor('H') \n",
    "# df_7 = (df_7.groupby(df_7.index).mean()).replace(0,np.nan)\n",
    "\n",
    "# df_8.index = df_8.index.floor('H') \n",
    "# df_8 = (df_8.groupby(df_8.index).mean()).replace(0,np.nan)\n",
    "\n",
    "# df_9.index = df_9.index.floor('H') \n",
    "# df_9 = (df_9.groupby(df_9.index).mean()).replace(0,np.nan)"
   ]
  },
  {
   "cell_type": "code",
   "execution_count": null,
   "metadata": {},
   "outputs": [],
   "source": [
    "df_0 # 684 rows means 76 days and 9 hours per day so 76x9 = 684"
   ]
  },
  {
   "cell_type": "code",
   "execution_count": null,
   "metadata": {},
   "outputs": [],
   "source": [
    "df_0.isna().sum()"
   ]
  },
  {
   "cell_type": "code",
   "execution_count": null,
   "metadata": {},
   "outputs": [],
   "source": [
    "# df_0 = df_0.resample('H').max()"
   ]
  },
  {
   "cell_type": "code",
   "execution_count": null,
   "metadata": {},
   "outputs": [],
   "source": [
    "df_0 = df_0.interpolate(method='linear' , axis=0, inplace=False)\n",
    "df_1 = df_1.interpolate(method='linear' , axis=0, inplace=False)\n",
    "df_2 = df_2.interpolate(method='linear' , axis=0, inplace=False)\n",
    "df_3 = df_3.interpolate(method='linear' , axis=0, inplace=False)\n",
    "df_4 = df_4.interpolate(method='linear' , axis=0, inplace=False)\n",
    "df_5 = df_5.interpolate(method='linear' , axis=0, inplace=False)\n",
    "df_6 = df_6.interpolate(method='linear' , axis=0, inplace=False)\n",
    "df_7 = df_7.interpolate(method='linear' , axis=0, inplace=False)\n",
    "df_8 = df_8.interpolate(method='linear' , axis=0, inplace=False)\n",
    "df_9 = df_9.interpolate(method='linear' , axis=0, inplace=False)\n",
    "\n",
    "# Interpolate doesn't work well. To get a more accurate result, a more sensible filling process can be considered."
   ]
  },
  {
   "cell_type": "code",
   "execution_count": null,
   "metadata": {},
   "outputs": [],
   "source": [
    "df_0.isna().sum()"
   ]
  },
  {
   "cell_type": "code",
   "execution_count": null,
   "metadata": {},
   "outputs": [],
   "source": [
    "start_date = pd.to_datetime('2017-06-21')\n",
    "end_date = pd.to_datetime('2017-06-21 23:59:59')\n",
    "\n",
    "df_0.loc[(df_0.index >= start_date) & (df_0.index <= end_date)] # df.between_time(start_date, end_date)"
   ]
  },
  {
   "cell_type": "code",
   "execution_count": null,
   "metadata": {},
   "outputs": [],
   "source": [
    "df_0"
   ]
  },
  {
   "cell_type": "code",
   "execution_count": null,
   "metadata": {},
   "outputs": [],
   "source": [
    "df_0_test = df_0[-126:]\n",
    "df_1_test = df_1[-126:]\n",
    "df_2_test = df_2[-126:]\n",
    "df_3_test = df_3[-126:]\n",
    "df_4_test = df_4[-126:]\n",
    "df_5_test = df_5[-126:]\n",
    "df_6_test = df_6[-126:]\n",
    "df_7_test = df_7[-126:]\n",
    "df_8_test = df_8[-126:]\n",
    "df_9_test = df_9[-126:]"
   ]
  },
  {
   "cell_type": "code",
   "execution_count": null,
   "metadata": {},
   "outputs": [],
   "source": [
    "df_0_test"
   ]
  },
  {
   "cell_type": "code",
   "execution_count": null,
   "metadata": {},
   "outputs": [],
   "source": [
    "df_0_test_2w = df_0_test[-63:]\n",
    "df_1_test_2w = df_1_test[-63:]\n",
    "df_2_test_2w = df_2_test[-63:]\n",
    "df_3_test_2w = df_3_test[-63:]\n",
    "df_4_test_2w = df_4_test[-63:]\n",
    "df_5_test_2w = df_5_test[-63:]\n",
    "df_6_test_2w = df_6_test[-63:]\n",
    "df_7_test_2w = df_7_test[-63:]\n",
    "df_8_test_2w = df_8_test[-63:]\n",
    "df_9_test_2w = df_9_test[-63:]"
   ]
  },
  {
   "cell_type": "code",
   "execution_count": null,
   "metadata": {},
   "outputs": [],
   "source": [
    "df_0_test_2w"
   ]
  },
  {
   "cell_type": "code",
   "execution_count": null,
   "metadata": {},
   "outputs": [],
   "source": [
    "df_0_test_1w = df_0_test[:-63]\n",
    "df_1_test_1w = df_1_test[:-63]\n",
    "df_2_test_1w = df_2_test[:-63]\n",
    "df_3_test_1w = df_3_test[:-63]\n",
    "df_4_test_1w = df_4_test[:-63]\n",
    "df_5_test_1w = df_5_test[:-63]\n",
    "df_6_test_1w = df_6_test[:-63]\n",
    "df_7_test_1w = df_7_test[:-63]\n",
    "df_8_test_1w = df_8_test[:-63]\n",
    "df_9_test_1w = df_9_test[:-63]"
   ]
  },
  {
   "cell_type": "code",
   "execution_count": null,
   "metadata": {},
   "outputs": [],
   "source": [
    "df_0_test_1w"
   ]
  },
  {
   "cell_type": "code",
   "execution_count": null,
   "metadata": {},
   "outputs": [],
   "source": [
    "df_0_train = df_0[:-126]\n",
    "df_1_train = df_0[:-126]\n",
    "df_2_train = df_0[:-126]\n",
    "df_3_train = df_0[:-126]\n",
    "df_4_train = df_0[:-126]\n",
    "df_5_train = df_0[:-126]\n",
    "df_6_train = df_0[:-126]\n",
    "df_7_train = df_0[:-126]\n",
    "df_8_train = df_0[:-126]\n",
    "df_9_train = df_0[:-126]"
   ]
  },
  {
   "cell_type": "code",
   "execution_count": null,
   "metadata": {},
   "outputs": [],
   "source": [
    "df_0_train"
   ]
  },
  {
   "cell_type": "code",
   "execution_count": null,
   "metadata": {},
   "outputs": [],
   "source": [
    "df_0_train.isna().sum()"
   ]
  },
  {
   "attachments": {},
   "cell_type": "markdown",
   "metadata": {},
   "source": [
    "# Modelling"
   ]
  },
  {
   "attachments": {},
   "cell_type": "markdown",
   "metadata": {},
   "source": [
    "## 1) Moving Average Model"
   ]
  },
  {
   "attachments": {},
   "cell_type": "markdown",
   "metadata": {},
   "source": [
    "### Prepara data for moving average model"
   ]
  },
  {
   "cell_type": "code",
   "execution_count": null,
   "metadata": {},
   "outputs": [],
   "source": [
    "df_0_train_ma = df_0_train.copy()\n",
    "df_0_test_ma = df_0_test.copy()\n",
    "df_0_test_1w_ma = df_0_test_1w.copy()\n",
    "df_0_test_2w_ma = df_0_test_2w.copy()"
   ]
  },
  {
   "cell_type": "code",
   "execution_count": null,
   "metadata": {},
   "outputs": [],
   "source": [
    "df_0_train_ma['date'] = df_0_train_ma.index\n",
    "df_0_train_ma = df_0_train_ma.iloc[:,[1,0]]\n",
    "df_0_train_ma.reset_index(drop=True , inplace=True)\n",
    "\n",
    "df_0_test_ma['date'] = df_0_test_ma.index\n",
    "df_0_test_ma = df_0_test_ma.iloc[:,[1,0]]\n",
    "df_0_test_ma.reset_index(drop=True , inplace=True)\n",
    "\n",
    "df_0_test_1w_ma['date'] = df_0_test_1w_ma.index\n",
    "df_0_test_1w_ma = df_0_test_1w_ma.iloc[:,[1,0]]\n",
    "df_0_test_1w_ma.reset_index(drop=True , inplace=True)\n",
    "\n",
    "df_0_test_2w_ma['date'] = df_0_test_2w_ma.index\n",
    "df_0_test_2w_ma = df_0_test_2w_ma.iloc[:,[1,0]]\n",
    "df_0_test_2w_ma.reset_index(drop=True , inplace=True)"
   ]
  },
  {
   "cell_type": "code",
   "execution_count": null,
   "metadata": {},
   "outputs": [],
   "source": [
    "df_0_train_ma"
   ]
  },
  {
   "cell_type": "code",
   "execution_count": null,
   "metadata": {},
   "outputs": [],
   "source": [
    "from statsmodels.tsa.stattools import adfuller\n",
    "\n",
    "ADF_result = adfuller(df_0_train_ma.usage)\n",
    "   \n",
    "print(f'ADF Statistic: {ADF_result[0]}') \n",
    "print(f'p-value: {ADF_result[1]}')   # stationary "
   ]
  },
  {
   "cell_type": "code",
   "execution_count": null,
   "metadata": {},
   "outputs": [],
   "source": [
    "# usages_diff = np.diff(df_0_train_ma.usage, n=1)\n",
    "\n",
    "# ADF_result = adfuller(usages_diff)\n",
    "\n",
    "# print(f'ADF Statistic: {ADF_result[0]}') \n",
    "# print(f'p-value: {ADF_result[1]}')   # now stationary "
   ]
  },
  {
   "cell_type": "code",
   "execution_count": null,
   "metadata": {},
   "outputs": [],
   "source": [
    "# from statsmodels.graphics.tsaplots import plot_acf\n",
    "\n",
    "# plot_acf(df_0_train_ma.usage, lags=30);\n",
    "# plt.tight_layout()"
   ]
  },
  {
   "attachments": {},
   "cell_type": "markdown",
   "metadata": {},
   "source": [
    "### Build a Moving Average Model"
   ]
  },
  {
   "attachments": {},
   "cell_type": "markdown",
   "metadata": {},
   "source": [
    "### Predict 1.Week of Test Data"
   ]
  },
  {
   "cell_type": "code",
   "execution_count": null,
   "metadata": {},
   "outputs": [],
   "source": [
    "from statsmodels.tsa.holtwinters import ExponentialSmoothing\n",
    "\n",
    "# Fit the model on the training data\n",
    "model = ExponentialSmoothing(df_0_train_ma['usage'], seasonal_periods=9, seasonal='multiplicative')\n",
    "model_fit = model.fit()\n",
    "\n",
    "# Use the model to make predictions on the test data\n",
    "predictions_train = model_fit.forecast(len(df_0_train_ma))\n",
    "predictions = model_fit.forecast(len(df_0_test_1w_ma))\n",
    "\n",
    "# Combine the actual and predicted values into a single dataframe\n",
    "result_1w = pd.concat([df_0_test_1w_ma[['date','usage']].reset_index(drop=True), pd.DataFrame(predictions, columns=['Predicted']).reset_index(drop=True)], axis=1)\n",
    "result_1w.set_index('date' , drop=True , inplace=True)"
   ]
  },
  {
   "cell_type": "code",
   "execution_count": null,
   "metadata": {},
   "outputs": [],
   "source": [
    "result_1w"
   ]
  },
  {
   "cell_type": "code",
   "execution_count": null,
   "metadata": {},
   "outputs": [],
   "source": [
    "# Plot actual vs predicted values\n",
    "plt.plot(result_1w['usage'], label='actual')\n",
    "plt.plot(result_1w['Predicted'], label='predicted')\n",
    "\n",
    "plt.legend()\n",
    "plt.xlabel('Time')\n",
    "plt.ylabel('Usage')\n",
    "plt.title('Actual vs Predicted Usage for 1.Week of Test Data')\n",
    "\n",
    "plt.show()"
   ]
  },
  {
   "cell_type": "code",
   "execution_count": null,
   "metadata": {},
   "outputs": [],
   "source": [
    "# Compare the predictions with the actual values\n",
    "from sklearn.metrics import mean_absolute_error, mean_squared_error , r2_score\n",
    "\n",
    "def eval_metrics(actual, pred):\n",
    "    rmse = np.sqrt(mean_squared_error(actual, pred))\n",
    "    mae = mean_absolute_error(actual, pred)\n",
    "    mse = mean_squared_error(actual, pred)\n",
    "    score = r2_score(actual, pred)\n",
    "    return print(\"r2_score:\", score, \"\\nmae:\", mae, \"\\nmse:\",mse, \"\\nrmse:\",rmse)"
   ]
  },
  {
   "cell_type": "code",
   "execution_count": null,
   "metadata": {},
   "outputs": [],
   "source": [
    "eval_metrics(result_1w['usage'] , result_1w['Predicted'])"
   ]
  },
  {
   "cell_type": "code",
   "execution_count": null,
   "metadata": {},
   "outputs": [],
   "source": [
    "# Done"
   ]
  },
  {
   "attachments": {},
   "cell_type": "markdown",
   "metadata": {},
   "source": [
    "### Build a new Moving Average Model"
   ]
  },
  {
   "attachments": {},
   "cell_type": "markdown",
   "metadata": {},
   "source": [
    "### Predict 2.Week of Test Data"
   ]
  },
  {
   "cell_type": "code",
   "execution_count": null,
   "metadata": {},
   "outputs": [],
   "source": [
    "df_0_train1w_ma = pd.concat([df_0_train_ma , df_0_test_1w_ma])\n",
    "df_0_train1w_ma"
   ]
  },
  {
   "cell_type": "code",
   "execution_count": null,
   "metadata": {},
   "outputs": [],
   "source": [
    "# Fit the model on the training data\n",
    "model = ExponentialSmoothing(df_0_train1w_ma['usage'], seasonal_periods=9, seasonal='multiplicative')\n",
    "model_fit = model.fit()\n",
    "\n",
    "# Use the model to make predictions on the test data\n",
    "predictions = model_fit.forecast(len(df_0_test_2w_ma))\n",
    "\n",
    "# Combine the actual and predicted values into a single dataframe\n",
    "result_2w = pd.concat([df_0_test_2w_ma[['date','usage']].reset_index(drop=True), pd.DataFrame(predictions, columns=['Predicted']).reset_index(drop=True)], axis=1)\n",
    "result_2w.set_index('date' , drop=True , inplace=True)"
   ]
  },
  {
   "cell_type": "code",
   "execution_count": null,
   "metadata": {},
   "outputs": [],
   "source": [
    "result_2w"
   ]
  },
  {
   "cell_type": "code",
   "execution_count": null,
   "metadata": {},
   "outputs": [],
   "source": [
    "# Plot actual vs predicted values\n",
    "plt.plot(result_2w['usage'], label='actual')\n",
    "plt.plot(result_2w['Predicted'], label='predicted')\n",
    "\n",
    "plt.legend()\n",
    "plt.xlabel('Time')\n",
    "plt.ylabel('Usage')\n",
    "plt.title('Actual vs Predicted Usage for 2.Week of Test Data')\n",
    "\n",
    "plt.show()"
   ]
  },
  {
   "cell_type": "code",
   "execution_count": null,
   "metadata": {},
   "outputs": [],
   "source": [
    "eval_metrics(result_2w['usage'] , result_2w['Predicted'])"
   ]
  },
  {
   "cell_type": "code",
   "execution_count": null,
   "metadata": {},
   "outputs": [],
   "source": [
    "# Done"
   ]
  },
  {
   "attachments": {},
   "cell_type": "markdown",
   "metadata": {},
   "source": [
    "## 2) Prophet Model"
   ]
  },
  {
   "attachments": {},
   "cell_type": "markdown",
   "metadata": {},
   "source": [
    "### Prepare data for prophet model"
   ]
  },
  {
   "cell_type": "code",
   "execution_count": null,
   "metadata": {},
   "outputs": [],
   "source": [
    "df_0_train_prop = df_0_train.copy()\n",
    "df_0_test_prop = df_0_test.copy()\n",
    "df_0_test_1w_prop = df_0_test_1w.copy()\n",
    "df_0_test_2w_prop = df_0_test_2w.copy()"
   ]
  },
  {
   "cell_type": "code",
   "execution_count": null,
   "metadata": {},
   "outputs": [],
   "source": [
    "df_0_train_prop['ds'] = df_0_train_prop.index\n",
    "df_0_train_prop = df_0_train_prop.iloc[:,[1,0]]\n",
    "df_0_train_prop.rename(columns = {'usage':'y'} , inplace=True)\n",
    "df_0_train_prop.reset_index(inplace=True , drop = True)\n",
    "df_0_train_prop"
   ]
  },
  {
   "cell_type": "code",
   "execution_count": null,
   "metadata": {},
   "outputs": [],
   "source": [
    "df_0_test_prop['ds'] = df_0_test_prop.index\n",
    "df_0_test_prop = df_0_test_prop.iloc[:,[1,0]]\n",
    "df_0_test_prop.rename(columns = {'usage':'y'} , inplace=True)\n",
    "df_0_test_prop.reset_index(inplace=True , drop = True)\n",
    "df_0_test_prop"
   ]
  },
  {
   "cell_type": "code",
   "execution_count": null,
   "metadata": {},
   "outputs": [],
   "source": [
    "df_0_test_1w_prop['ds'] = df_0_test_1w_prop.index\n",
    "df_0_test_1w_prop = df_0_test_1w_prop.iloc[:,[1,0]]\n",
    "df_0_test_1w_prop.rename(columns = {'usage':'y'} , inplace=True)\n",
    "df_0_test_1w_prop.reset_index(inplace=True , drop = True)\n",
    "df_0_test_1w_prop"
   ]
  },
  {
   "cell_type": "code",
   "execution_count": null,
   "metadata": {},
   "outputs": [],
   "source": [
    "df_0_test_2w_prop['ds'] = df_0_test_2w_prop.index\n",
    "df_0_test_2w_prop = df_0_test_2w_prop.iloc[:,[1,0]]\n",
    "df_0_test_2w_prop.rename(columns = {'usage':'y'} , inplace=True)\n",
    "df_0_test_2w_prop.reset_index(inplace=True , drop = True)\n",
    "df_0_test_2w_prop"
   ]
  },
  {
   "attachments": {},
   "cell_type": "markdown",
   "metadata": {},
   "source": [
    "### Build prophet model"
   ]
  },
  {
   "attachments": {},
   "cell_type": "markdown",
   "metadata": {},
   "source": [
    "### Predict 1.Week of Test Data"
   ]
  },
  {
   "cell_type": "code",
   "execution_count": null,
   "metadata": {},
   "outputs": [],
   "source": [
    "from prophet import Prophet\n",
    "\n",
    "# Create a new Prophet model\n",
    "model = Prophet()\n",
    "\n",
    "# Fit the model to the training data\n",
    "model.fit(df_0_train_prop)\n",
    "\n",
    "# Make predictions on the test data\n",
    "forecast_test_1w_prop = model.predict(df_0_test_1w_prop[['ds']])\n",
    "df_0_test_1w_prop['predictions'] = forecast_test_1w_prop.yhat"
   ]
  },
  {
   "cell_type": "code",
   "execution_count": null,
   "metadata": {},
   "outputs": [],
   "source": [
    "# forecast_test[['ds','yhat','yhat_lower','yhat_upper']]"
   ]
  },
  {
   "cell_type": "code",
   "execution_count": null,
   "metadata": {},
   "outputs": [],
   "source": [
    "df_0_test_1w_prop"
   ]
  },
  {
   "cell_type": "code",
   "execution_count": null,
   "metadata": {},
   "outputs": [],
   "source": [
    "# # Compare the predictions with the actual values\n",
    "# from sklearn.metrics import mean_absolute_error, mean_squared_error\n",
    "\n",
    "# mae = mean_absolute_error(df_0_test_1w_prop['y'], df_0_test_1w_prop['predictions'])\n",
    "# rmse = (mean_squared_error(df_0_test_1w_prop['y'], df_0_test_1w_prop['predictions']))**(1/2)\n",
    "# mse = mean_squared_error(df_0_test_1w_prop['y'], df_0_test_1w_prop['predictions'])\n",
    "# print(f'Mean Absolute Error: {mae}')\n",
    "# print(f'Root Mean Squared Error: {rmse}')\n",
    "# print(f'Mean Squared Error: {mse}')"
   ]
  },
  {
   "cell_type": "code",
   "execution_count": null,
   "metadata": {},
   "outputs": [],
   "source": [
    "model.plot(forecast_test_1w_prop);\n",
    "model.plot_components(forecast_test_1w_prop);"
   ]
  },
  {
   "cell_type": "code",
   "execution_count": null,
   "metadata": {},
   "outputs": [],
   "source": [
    "df_0_test_1w_prop.plot(y=['y','predictions'],figsize=(12,6),grid=True);"
   ]
  },
  {
   "cell_type": "code",
   "execution_count": null,
   "metadata": {},
   "outputs": [],
   "source": [
    "# # Compare the predictions with the actual values\n",
    "# from sklearn.metrics import mean_absolute_error, mean_squared_error , r2_score\n",
    "\n",
    "# def eval_metrics(actual, pred):\n",
    "#     rmse = np.sqrt(mean_squared_error(actual, pred))\n",
    "#     mae = mean_absolute_error(actual, pred)\n",
    "#     mse = mean_squared_error(actual, pred)\n",
    "#     score = r2_score(actual, pred)\n",
    "#     return print(\"r2_score:\", score, \"\\nmae:\", mae, \"\\nmse:\",mse, \"\\nrmse:\",rmse)"
   ]
  },
  {
   "cell_type": "code",
   "execution_count": null,
   "metadata": {},
   "outputs": [],
   "source": [
    "eval_metrics(df_0_test_1w_prop['y'] , df_0_test_1w_prop['predictions'] )"
   ]
  },
  {
   "attachments": {},
   "cell_type": "markdown",
   "metadata": {},
   "source": [
    "### Build a new prophet model"
   ]
  },
  {
   "attachments": {},
   "cell_type": "markdown",
   "metadata": {},
   "source": [
    "### Predict the 2.Week of Test Data"
   ]
  },
  {
   "cell_type": "code",
   "execution_count": null,
   "metadata": {},
   "outputs": [],
   "source": [
    "df_0_train1w_prop = pd.concat([df_0_train_prop , df_0_test_1w_prop.drop('predictions' , axis=1)])\n",
    "df_0_train1w_prop"
   ]
  },
  {
   "cell_type": "code",
   "execution_count": null,
   "metadata": {},
   "outputs": [],
   "source": [
    "df_0_test_2w_prop.tail(30) # 8-17 , 8-18 , 8-19 is anormal and cant predictable. # Miting filan var heralde :D "
   ]
  },
  {
   "cell_type": "code",
   "execution_count": null,
   "metadata": {},
   "outputs": [],
   "source": [
    "# Create a new Prophet model\n",
    "model = Prophet()\n",
    "\n",
    "# Fit the model to the training data\n",
    "model.fit(df_0_train1w_prop)\n",
    "\n",
    "# Make predictions on the test data\n",
    "forecast_pred_prop = model.predict(df_0_test_2w_prop[['ds']])\n",
    "df_0_test_2w_prop['predictions'] = forecast_pred_prop.yhat"
   ]
  },
  {
   "cell_type": "code",
   "execution_count": null,
   "metadata": {},
   "outputs": [],
   "source": [
    "df_0_test_2w_prop"
   ]
  },
  {
   "cell_type": "code",
   "execution_count": null,
   "metadata": {},
   "outputs": [],
   "source": [
    "model.plot(forecast_pred_prop);\n",
    "model.plot_components(forecast_pred_prop);"
   ]
  },
  {
   "cell_type": "code",
   "execution_count": null,
   "metadata": {},
   "outputs": [],
   "source": [
    "eval_metrics(df_0_test_2w_prop['y'] , df_0_test_2w_prop['predictions'] )"
   ]
  },
  {
   "cell_type": "code",
   "execution_count": null,
   "metadata": {},
   "outputs": [],
   "source": [
    "# Done"
   ]
  },
  {
   "attachments": {},
   "cell_type": "markdown",
   "metadata": {},
   "source": [
    "## 3) LSTM model"
   ]
  },
  {
   "attachments": {},
   "cell_type": "markdown",
   "metadata": {},
   "source": [
    "### Prepare the data"
   ]
  },
  {
   "cell_type": "code",
   "execution_count": null,
   "metadata": {},
   "outputs": [],
   "source": [
    "df_0_train"
   ]
  },
  {
   "cell_type": "code",
   "execution_count": null,
   "metadata": {},
   "outputs": [],
   "source": [
    "df_0_train_lstm = df_0_train.copy()\n",
    "df_0_test_lstm = df_0_test.copy()\n",
    "df_0_test_1w_lstm = df_0_test_1w.copy()\n",
    "df_0_test_2w_lstm = df_0_test_2w.copy()"
   ]
  },
  {
   "cell_type": "code",
   "execution_count": null,
   "metadata": {},
   "outputs": [],
   "source": [
    "df_0_train_lstm = df_0_train[:-63]\n",
    "df_0_valid_lstm = df_0_train[-63:]"
   ]
  },
  {
   "cell_type": "code",
   "execution_count": null,
   "metadata": {},
   "outputs": [],
   "source": [
    "df_0_train_lstm"
   ]
  },
  {
   "attachments": {},
   "cell_type": "markdown",
   "metadata": {},
   "source": [
    "### Import Required Libraries for LSTM Model"
   ]
  },
  {
   "cell_type": "code",
   "execution_count": null,
   "metadata": {},
   "outputs": [],
   "source": [
    "import tensorflow as tf\n",
    "from keras.models import Sequential\n",
    "from keras.layers import Dense, LSTM , Bidirectional , Dropout , BatchNormalization\n",
    "from sklearn.preprocessing import MinMaxScaler\n",
    "from tensorflow.keras.optimizers import Adam"
   ]
  },
  {
   "attachments": {},
   "cell_type": "markdown",
   "metadata": {},
   "source": [
    "### Train | Test Split"
   ]
  },
  {
   "cell_type": "code",
   "execution_count": null,
   "metadata": {},
   "outputs": [],
   "source": [
    "##### ALREADY DONE #####"
   ]
  },
  {
   "cell_type": "code",
   "execution_count": null,
   "metadata": {},
   "outputs": [],
   "source": [
    "# test_size = 135"
   ]
  },
  {
   "cell_type": "code",
   "execution_count": null,
   "metadata": {},
   "outputs": [],
   "source": [
    "# test_ind = len(df_0_all_train) - test_size"
   ]
  },
  {
   "cell_type": "code",
   "execution_count": null,
   "metadata": {},
   "outputs": [],
   "source": [
    "# df_0_train_lstm = df_0_all_train.iloc[:test_ind]\n",
    "# df_0_test_lstm = df_0_all_train.iloc[test_ind:]"
   ]
  },
  {
   "attachments": {},
   "cell_type": "markdown",
   "metadata": {},
   "source": [
    "### Scaling"
   ]
  },
  {
   "cell_type": "code",
   "execution_count": null,
   "metadata": {},
   "outputs": [],
   "source": [
    "scaler = MinMaxScaler()"
   ]
  },
  {
   "cell_type": "code",
   "execution_count": null,
   "metadata": {},
   "outputs": [],
   "source": [
    "df_0_train_lstm_scaled = scaler.fit_transform(df_0_train_lstm)\n",
    "df_0_valid_lstm_scaled = scaler.fit_transform(df_0_valid_lstm)\n",
    "df_0_test_lstm_scaled = scaler.transform(df_0_test_lstm)\n",
    "df_0_test_1w_lstm_scaled = scaler.transform(df_0_test_1w_lstm)\n",
    "df_0_test_2w_lstm_scaled = scaler.transform(df_0_test_1w_lstm)"
   ]
  },
  {
   "attachments": {},
   "cell_type": "markdown",
   "metadata": {},
   "source": [
    "### Time Series Generator"
   ]
  },
  {
   "cell_type": "code",
   "execution_count": null,
   "metadata": {},
   "outputs": [],
   "source": [
    "from tensorflow.keras.preprocessing.sequence import TimeseriesGenerator"
   ]
  },
  {
   "cell_type": "code",
   "execution_count": null,
   "metadata": {},
   "outputs": [],
   "source": [
    "df_0_train_lstm_scaled.shape"
   ]
  },
  {
   "cell_type": "code",
   "execution_count": null,
   "metadata": {},
   "outputs": [],
   "source": [
    "# length = 9 # sequences = (data_size - length) / batch_size + 1\n",
    "# batch_size = 1\n",
    "# generator = TimeseriesGenerator(df_0_train_lstm_scaled, df_0_train_lstm_scaled[:, -1], length = length, batch_size = batch_size)\n",
    "# test_generator = TimeseriesGenerator(df_0_test_lstm_scaled, df_0_test_lstm_scaled[:, -1], length = length, batch_size = batch_size)"
   ]
  },
  {
   "cell_type": "code",
   "execution_count": null,
   "metadata": {},
   "outputs": [],
   "source": [
    "length = 9  # sequences = (data_size - length) / batch_size + 1 # (558 - 9) / 1 + 1 = 550\n",
    "batch_size = 1\n",
    "train_generator = TimeseriesGenerator(df_0_train_lstm_scaled, df_0_train_lstm_scaled, length = length, batch_size = batch_size)\n",
    "valid_generator = TimeseriesGenerator(df_0_valid_lstm_scaled, df_0_valid_lstm_scaled, length = length, batch_size = batch_size)\n",
    "# test_generator = TimeseriesGenerator(df_0_test_lstm_scaled, df_0_test_lstm_scaled, length = length, batch_size = batch_size)"
   ]
  },
  {
   "cell_type": "code",
   "execution_count": null,
   "metadata": {},
   "outputs": [],
   "source": [
    "train_generator[0]"
   ]
  },
  {
   "cell_type": "code",
   "execution_count": null,
   "metadata": {},
   "outputs": [],
   "source": [
    "X, y = train_generator[0]"
   ]
  },
  {
   "cell_type": "code",
   "execution_count": null,
   "metadata": {},
   "outputs": [],
   "source": [
    "X.shape"
   ]
  },
  {
   "cell_type": "code",
   "execution_count": null,
   "metadata": {},
   "outputs": [],
   "source": [
    "print(f'Given the Array: \\n{X.flatten()}')\n",
    "print(f'Predict this y: \\n {y}')"
   ]
  },
  {
   "cell_type": "code",
   "execution_count": null,
   "metadata": {},
   "outputs": [],
   "source": [
    "train_generator[0]"
   ]
  },
  {
   "attachments": {},
   "cell_type": "markdown",
   "metadata": {},
   "source": [
    "### Model and Performance"
   ]
  },
  {
   "cell_type": "code",
   "execution_count": null,
   "metadata": {},
   "outputs": [],
   "source": [
    "from tensorflow.keras.callbacks import EarlyStopping"
   ]
  },
  {
   "cell_type": "code",
   "execution_count": null,
   "metadata": {},
   "outputs": [],
   "source": [
    "n_features = df_0_train_lstm_scaled.shape[1]"
   ]
  },
  {
   "attachments": {},
   "cell_type": "markdown",
   "metadata": {},
   "source": [
    "### with 'relu' activation func"
   ]
  },
  {
   "cell_type": "code",
   "execution_count": null,
   "metadata": {},
   "outputs": [],
   "source": [
    "model = Sequential()\n",
    "\n",
    "model.add(Bidirectional(LSTM(64, activation = 'relu', return_sequences=True, input_shape = (length, n_features))))\n",
    "model.add(BatchNormalization())\n",
    "model.add(Dropout(0.3))\n",
    "model.add(LSTM(32, activation = 'relu', return_sequences=False))\n",
    "model.add(BatchNormalization())\n",
    "model.add(Dropout(0.2))\n",
    "model.add(LSTM(16, activation = 'relu', return_sequences=False))\n",
    "model.add(BatchNormalization())\n",
    "model.add(Dropout(0.2))\n",
    "\n",
    "\n",
    "model.add(Dense(1))\n",
    "\n",
    "\n",
    "opt = Adam(learning_rate=0.001)\n",
    "model.compile(optimizer = opt , loss = 'mse')"
   ]
  },
  {
   "cell_type": "code",
   "execution_count": null,
   "metadata": {},
   "outputs": [],
   "source": [
    "# early_stop = EarlyStopping(monitor = 'val_loss', patience = 20, restore_best_weights = True)"
   ]
  },
  {
   "cell_type": "code",
   "execution_count": null,
   "metadata": {},
   "outputs": [],
   "source": [
    "# from tensorflow.keras.callbacks import ReduceLROnPlateau\n",
    "\n",
    "# reduce_lr = ReduceLROnPlateau(monitor='val_loss', factor=0.1, patience=10, verbose=1, min_lr=0.00001)\n",
    "\n",
    "# # model.fit(X_train, y_train, epochs=400, batch_size=32, validation_data=(X_val, y_val), callbacks=[reduce_lr])"
   ]
  },
  {
   "cell_type": "code",
   "execution_count": null,
   "metadata": {},
   "outputs": [],
   "source": [
    "model.fit(train_generator,\n",
    "        epochs = 550,\n",
    "        validation_data = valid_generator,\n",
    "        # callbacks = [early_stop]\n",
    "        )"
   ]
  },
  {
   "cell_type": "code",
   "execution_count": null,
   "metadata": {},
   "outputs": [],
   "source": [
    "model.summary()"
   ]
  },
  {
   "cell_type": "code",
   "execution_count": null,
   "metadata": {},
   "outputs": [],
   "source": [
    "loss_df = pd.DataFrame(model.history.history)\n",
    "loss_df.plot();"
   ]
  },
  {
   "attachments": {},
   "cell_type": "markdown",
   "metadata": {},
   "source": [
    "### Evaluation on Test Data"
   ]
  },
  {
   "attachments": {},
   "cell_type": "markdown",
   "metadata": {},
   "source": [
    "### Predict the 1.Week of Test Data"
   ]
  },
  {
   "cell_type": "code",
   "execution_count": null,
   "metadata": {},
   "outputs": [],
   "source": [
    "# for_range = df_0_test_1w_lstm_scaled.shape[0]\n",
    "# first_eval_batch = df_0_test_1w_lstm_scaled[:length] # First length num\n",
    "# # first_eval_batch2 = df_0_test_1w_lstm_scaled[-length:] # Last length num\n",
    "# current_batch = first_eval_batch.reshape((1, length, n_features))"
   ]
  },
  {
   "cell_type": "code",
   "execution_count": null,
   "metadata": {},
   "outputs": [],
   "source": [
    "# first_eval_batch"
   ]
  },
  {
   "cell_type": "code",
   "execution_count": null,
   "metadata": {},
   "outputs": [],
   "source": [
    "# first_eval_batch2"
   ]
  },
  {
   "cell_type": "code",
   "execution_count": null,
   "metadata": {},
   "outputs": [],
   "source": [
    "# current_batch"
   ]
  },
  {
   "cell_type": "code",
   "execution_count": null,
   "metadata": {},
   "outputs": [],
   "source": [
    "# current_batch.shape"
   ]
  },
  {
   "cell_type": "code",
   "execution_count": null,
   "metadata": {},
   "outputs": [],
   "source": [
    "# current_pred = model.predict(current_batch)\n",
    "# current_pred"
   ]
  },
  {
   "cell_type": "code",
   "execution_count": null,
   "metadata": {},
   "outputs": [],
   "source": [
    "# current_pred.shape"
   ]
  },
  {
   "cell_type": "code",
   "execution_count": null,
   "metadata": {},
   "outputs": [],
   "source": [
    "# current_pred[0]"
   ]
  },
  {
   "cell_type": "code",
   "execution_count": null,
   "metadata": {},
   "outputs": [],
   "source": [
    "# current_batch[:, 1:, :].shape"
   ]
  },
  {
   "cell_type": "code",
   "execution_count": null,
   "metadata": {},
   "outputs": [],
   "source": [
    "# [current_pred].reshape()"
   ]
  },
  {
   "cell_type": "code",
   "execution_count": null,
   "metadata": {},
   "outputs": [],
   "source": [
    "#Alternative\n",
    "predictions_1w_scaled = []\n",
    "\n",
    "first_eval_batch = df_0_test_1w_lstm_scaled[:length]\n",
    "current_batch = first_eval_batch.reshape((1, length, n_features))\n",
    "\n",
    "for i in range(df_0_test_1w_lstm_scaled.shape[0]):\n",
    "    \n",
    "    # get prediction 1 time step ahead\n",
    "    current_pred = model.predict(current_batch)\n",
    "\n",
    "    # access the first element of current_pred\n",
    "    current_pred = current_pred[0, 0, 0]\n",
    "\n",
    "    # store prediction\n",
    "    predictions_1w_scaled.append(current_pred)\n",
    "\n",
    "    # update batch to now include prediction and drop first value\n",
    "    current_batch = np.append(current_batch[:, 1:, :], [[[current_pred]]], axis=1)"
   ]
  },
  {
   "cell_type": "code",
   "execution_count": null,
   "metadata": {},
   "outputs": [],
   "source": [
    "# predictions_1w_scaled = []\n",
    "\n",
    "# first_eval_batch = df_0_test_1w_lstm_scaled[:length]\n",
    "# current_batch = first_eval_batch.reshape((1, length, n_features))\n",
    "\n",
    "# for i in range(df_0_test_1w_lstm_scaled.shape[0]):\n",
    "    \n",
    "#     # get prediction 1 time stamp ahead\n",
    "#     current_pred = model.predict(current_batch)\n",
    "    \n",
    "#     # store prediction\n",
    "#     predictions_1w_scaled.append(current_pred[0]) \n",
    "    \n",
    "#     # update batch to now include prediction and drop first value\n",
    "#     current_batch = np.append(current_batch[:, 1:, :], [current_pred], axis=1)"
   ]
  },
  {
   "attachments": {},
   "cell_type": "markdown",
   "metadata": {},
   "source": [
    "### Inverse Transformation and Comparing"
   ]
  },
  {
   "cell_type": "code",
   "execution_count": null,
   "metadata": {},
   "outputs": [],
   "source": [
    "#Alternative\n",
    "compare_1w = df_0_test_1w_lstm  \n",
    "compare_1w['Prophet_Predictions'] = np.array(forecast_test_1w_prop.yhat)\n",
    "\n",
    "predictions = scaler.inverse_transform(np.array(predictions_1w_scaled).reshape(-1,1))\n",
    "compare_1w['LSTM_Predictions_1w_Relu'] = predictions\n",
    "compare_1w"
   ]
  },
  {
   "cell_type": "code",
   "execution_count": null,
   "metadata": {},
   "outputs": [],
   "source": [
    "# compare_1w = df_0_test_1w_lstm  \n",
    "# compare_1w['Prophet_Predictions'] = np.array(forecast_test_1w_prop.yhat)\n",
    "\n",
    "# predictions = scaler.inverse_transform(predictions_1w_scaled)\n",
    "# compare_1w['LSTM_Predictions_1w_Relu'] = predictions\n",
    "# compare_1w"
   ]
  },
  {
   "cell_type": "code",
   "execution_count": null,
   "metadata": {},
   "outputs": [],
   "source": [
    "compare_1w.plot();"
   ]
  },
  {
   "cell_type": "code",
   "execution_count": null,
   "metadata": {},
   "outputs": [],
   "source": [
    "eval_metrics(compare_1w.usage, compare_1w.Prophet_Predictions)"
   ]
  },
  {
   "cell_type": "code",
   "execution_count": null,
   "metadata": {},
   "outputs": [],
   "source": [
    "eval_metrics(compare_1w.usage, compare_1w.LSTM_Predictions_1w_Relu) # I'll try it with more epochs."
   ]
  },
  {
   "attachments": {},
   "cell_type": "markdown",
   "metadata": {},
   "source": [
    "### With Tanh activation func."
   ]
  },
  {
   "cell_type": "code",
   "execution_count": null,
   "metadata": {},
   "outputs": [],
   "source": [
    "# model = Sequential()\n",
    "\n",
    "# model.add(Bidirectional(LSTM(units=50, activation='tanh' ,return_sequences=True, input_shape=(length, n_features))))\n",
    "# model.add(Dropout(0.3))\n",
    "\n",
    "# model.add(LSTM(units=50, activation='tanh' , return_sequences=False))\n",
    "# model.add(Dropout(0.5))\n",
    "\n",
    "# model.add(Dense(1))\n",
    "\n",
    "# opt = Adam(learning_rate=0.001)\n",
    "# model.compile(optimizer = opt , loss = 'mse')"
   ]
  },
  {
   "cell_type": "code",
   "execution_count": null,
   "metadata": {},
   "outputs": [],
   "source": [
    "# early_stop = EarlyStopping(monitor = 'val_loss', patience = 20, restore_best_weights = True)"
   ]
  },
  {
   "cell_type": "code",
   "execution_count": null,
   "metadata": {},
   "outputs": [],
   "source": [
    "# model.fit(train_generator,\n",
    "#         epochs = 400,\n",
    "#         validation_data = valid_generator,\n",
    "#         # callbacks = [early_stop]\n",
    "#         )"
   ]
  },
  {
   "cell_type": "code",
   "execution_count": null,
   "metadata": {},
   "outputs": [],
   "source": [
    "# model.summary()"
   ]
  },
  {
   "cell_type": "code",
   "execution_count": null,
   "metadata": {},
   "outputs": [],
   "source": [
    "# loss_df = pd.DataFrame(model.history.history)\n",
    "# loss_df.plot();"
   ]
  },
  {
   "attachments": {},
   "cell_type": "markdown",
   "metadata": {},
   "source": [
    "### Evaluation on Test Data"
   ]
  },
  {
   "cell_type": "code",
   "execution_count": null,
   "metadata": {},
   "outputs": [],
   "source": [
    "# predictions_1w_scaled = []\n",
    "\n",
    "# first_eval_batch = df_0_test_1w_lstm_scaled[:length]\n",
    "# current_batch = first_eval_batch.reshape((1, length, n_features))\n",
    "\n",
    "# for i in range(df_0_test_1w_lstm_scaled.shape[0]):\n",
    "    \n",
    "#     # get prediction 1 time stamp ahead\n",
    "#     current_pred = model.predict(current_batch)\n",
    "    \n",
    "#     # store prediction\n",
    "#     predictions_1w_scaled.append(current_pred[0]) \n",
    "    \n",
    "#     # update batch to now include prediction and drop first value\n",
    "#     current_batch = np.append(current_batch[:, 1:, :], current_pred, axis=1)"
   ]
  },
  {
   "attachments": {},
   "cell_type": "markdown",
   "metadata": {},
   "source": [
    "### Inverse Transformation and Comparing"
   ]
  },
  {
   "cell_type": "code",
   "execution_count": null,
   "metadata": {},
   "outputs": [],
   "source": [
    "# predictions = scaler.inverse_transform(np.array(predictions_1w_scaled))"
   ]
  },
  {
   "cell_type": "code",
   "execution_count": null,
   "metadata": {},
   "outputs": [],
   "source": [
    "# predictions = scaler.inverse_transform(predictions_1w_scaled)\n",
    "# compare_1w['LSTM_Predictions_1w_Relu'] = predictions\n",
    "# compare_1w"
   ]
  },
  {
   "cell_type": "code",
   "execution_count": null,
   "metadata": {},
   "outputs": [],
   "source": [
    "# compare_1w.plot();"
   ]
  },
  {
   "cell_type": "code",
   "execution_count": null,
   "metadata": {},
   "outputs": [],
   "source": [
    "# eval_metrics(compare_1w.usage, compare_1w.LSTM_Predictions_Tanh)"
   ]
  },
  {
   "cell_type": "code",
   "execution_count": null,
   "metadata": {},
   "outputs": [],
   "source": [
    "# Done"
   ]
  },
  {
   "attachments": {},
   "cell_type": "markdown",
   "metadata": {},
   "source": [
    "### with 'sigmoid' activation func"
   ]
  },
  {
   "cell_type": "code",
   "execution_count": null,
   "metadata": {},
   "outputs": [],
   "source": [
    "# model = Sequential()\n",
    "\n",
    "# model.add(Bidirectional(LSTM(units=50, activation = 'sigmoid' ,  return_sequences=True, input_shape=(length, n_features))))\n",
    "# model.add(Dropout(0.3))\n",
    "\n",
    "# model.add(LSTM(units=50, activation = 'sigmoid' , return_sequences=False))\n",
    "# model.add(Dropout(0.5))\n",
    "\n",
    "# model.add(Dense(1))\n",
    "\n",
    "# opt = Adam(learning_rate=0.001)\n",
    "# model.compile(optimizer = opt , loss = 'mse')"
   ]
  },
  {
   "cell_type": "code",
   "execution_count": null,
   "metadata": {},
   "outputs": [],
   "source": [
    "# early_stop = EarlyStopping(monitor = 'val_loss', patience = 5, restore_best_weights = True)"
   ]
  },
  {
   "cell_type": "code",
   "execution_count": null,
   "metadata": {},
   "outputs": [],
   "source": [
    "# model.fit(train_generator,\n",
    "#         epochs = 400,\n",
    "#         validation_data = valid_generator,\n",
    "#         # callbacks = [early_stop]\n",
    "#         )"
   ]
  },
  {
   "cell_type": "code",
   "execution_count": null,
   "metadata": {},
   "outputs": [],
   "source": [
    "# model.summary()"
   ]
  },
  {
   "cell_type": "code",
   "execution_count": null,
   "metadata": {},
   "outputs": [],
   "source": [
    "# loss_df = pd.DataFrame(model.history.history)\n",
    "# loss_df.plot();"
   ]
  },
  {
   "attachments": {},
   "cell_type": "markdown",
   "metadata": {},
   "source": [
    "### Evaluation on Test Data"
   ]
  },
  {
   "cell_type": "code",
   "execution_count": null,
   "metadata": {},
   "outputs": [],
   "source": [
    "# predictions_1w_scaled = []\n",
    "\n",
    "# first_eval_batch = df_0_test_1w_lstm_scaled[:length]\n",
    "# current_batch = first_eval_batch.reshape((1, length, n_features))\n",
    "\n",
    "# for i in range(df_0_test_1w_lstm_scaled.shape[0]):\n",
    "    \n",
    "#     # get prediction 1 time stamp ahead\n",
    "#     current_pred = model.predict(current_batch)\n",
    "    \n",
    "#     # store prediction\n",
    "#     predictions_1w_scaled.append(current_pred[0]) \n",
    "    \n",
    "#     # update batch to now include prediction and drop first value\n",
    "#     current_batch = np.append(current_batch[:, 1:, :], current_pred, axis=1)"
   ]
  },
  {
   "attachments": {},
   "cell_type": "markdown",
   "metadata": {},
   "source": [
    "### Inverse Transformation and Comparing"
   ]
  },
  {
   "cell_type": "code",
   "execution_count": null,
   "metadata": {},
   "outputs": [],
   "source": [
    "# predictions = scaler.inverse_transform(predictions_1w_scaled)\n",
    "# compare_1w['LSTM_Predictions_Sigmoid'] = predictions\n",
    "# compare_1w"
   ]
  },
  {
   "cell_type": "code",
   "execution_count": null,
   "metadata": {},
   "outputs": [],
   "source": [
    "# compare_1w.plot();"
   ]
  },
  {
   "cell_type": "code",
   "execution_count": null,
   "metadata": {},
   "outputs": [],
   "source": [
    "# eval_metrics(compare_1w.usage, compare_1w.LSTM_Predictions_Sigmoid)"
   ]
  },
  {
   "cell_type": "code",
   "execution_count": null,
   "metadata": {},
   "outputs": [],
   "source": []
  },
  {
   "attachments": {},
   "cell_type": "markdown",
   "metadata": {},
   "source": [
    "## Create a new final model"
   ]
  },
  {
   "attachments": {},
   "cell_type": "markdown",
   "metadata": {},
   "source": [
    "### Predict all municipalities bus usages next 1 week"
   ]
  },
  {
   "cell_type": "code",
   "execution_count": 239,
   "metadata": {},
   "outputs": [],
   "source": [
    "df_0_last = df_0\n",
    "df_1_last = df_1\n",
    "df_2_last = df_2\n",
    "df_3_last = df_3\n",
    "df_4_last = df_4\n",
    "df_5_last = df_5\n",
    "df_6_last = df_6\n",
    "df_7_last = df_7\n",
    "df_8_last = df_8\n",
    "df_9_last = df_9"
   ]
  },
  {
   "cell_type": "code",
   "execution_count": 240,
   "metadata": {},
   "outputs": [
    {
     "data": {
      "text/html": [
       "<div>\n",
       "<style scoped>\n",
       "    .dataframe tbody tr th:only-of-type {\n",
       "        vertical-align: middle;\n",
       "    }\n",
       "\n",
       "    .dataframe tbody tr th {\n",
       "        vertical-align: top;\n",
       "    }\n",
       "\n",
       "    .dataframe thead th {\n",
       "        text-align: right;\n",
       "    }\n",
       "</style>\n",
       "<table border=\"1\" class=\"dataframe\">\n",
       "  <thead>\n",
       "    <tr style=\"text-align: right;\">\n",
       "      <th></th>\n",
       "      <th>usage</th>\n",
       "      <th>ds</th>\n",
       "    </tr>\n",
       "  </thead>\n",
       "  <tbody>\n",
       "    <tr>\n",
       "      <th>2017-06-04 08:00:00</th>\n",
       "      <td>247.0</td>\n",
       "      <td>2017-06-04 08:00:00</td>\n",
       "    </tr>\n",
       "    <tr>\n",
       "      <th>2017-06-04 09:00:00</th>\n",
       "      <td>429.0</td>\n",
       "      <td>2017-06-04 09:00:00</td>\n",
       "    </tr>\n",
       "    <tr>\n",
       "      <th>2017-06-04 10:00:00</th>\n",
       "      <td>534.0</td>\n",
       "      <td>2017-06-04 10:00:00</td>\n",
       "    </tr>\n",
       "    <tr>\n",
       "      <th>2017-06-04 11:00:00</th>\n",
       "      <td>597.0</td>\n",
       "      <td>2017-06-04 11:00:00</td>\n",
       "    </tr>\n",
       "    <tr>\n",
       "      <th>2017-06-04 12:00:00</th>\n",
       "      <td>614.0</td>\n",
       "      <td>2017-06-04 12:00:00</td>\n",
       "    </tr>\n",
       "    <tr>\n",
       "      <th>...</th>\n",
       "      <td>...</td>\n",
       "      <td>...</td>\n",
       "    </tr>\n",
       "    <tr>\n",
       "      <th>2017-08-19 12:00:00</th>\n",
       "      <td>1281.0</td>\n",
       "      <td>2017-08-19 12:00:00</td>\n",
       "    </tr>\n",
       "    <tr>\n",
       "      <th>2017-08-19 13:00:00</th>\n",
       "      <td>1283.0</td>\n",
       "      <td>2017-08-19 13:00:00</td>\n",
       "    </tr>\n",
       "    <tr>\n",
       "      <th>2017-08-19 14:00:00</th>\n",
       "      <td>1285.0</td>\n",
       "      <td>2017-08-19 14:00:00</td>\n",
       "    </tr>\n",
       "    <tr>\n",
       "      <th>2017-08-19 15:00:00</th>\n",
       "      <td>1286.0</td>\n",
       "      <td>2017-08-19 15:00:00</td>\n",
       "    </tr>\n",
       "    <tr>\n",
       "      <th>2017-08-19 16:00:00</th>\n",
       "      <td>1276.0</td>\n",
       "      <td>2017-08-19 16:00:00</td>\n",
       "    </tr>\n",
       "  </tbody>\n",
       "</table>\n",
       "<p>684 rows × 2 columns</p>\n",
       "</div>"
      ],
      "text/plain": [
       "                      usage                  ds\n",
       "2017-06-04 08:00:00   247.0 2017-06-04 08:00:00\n",
       "2017-06-04 09:00:00   429.0 2017-06-04 09:00:00\n",
       "2017-06-04 10:00:00   534.0 2017-06-04 10:00:00\n",
       "2017-06-04 11:00:00   597.0 2017-06-04 11:00:00\n",
       "2017-06-04 12:00:00   614.0 2017-06-04 12:00:00\n",
       "...                     ...                 ...\n",
       "2017-08-19 12:00:00  1281.0 2017-08-19 12:00:00\n",
       "2017-08-19 13:00:00  1283.0 2017-08-19 13:00:00\n",
       "2017-08-19 14:00:00  1285.0 2017-08-19 14:00:00\n",
       "2017-08-19 15:00:00  1286.0 2017-08-19 15:00:00\n",
       "2017-08-19 16:00:00  1276.0 2017-08-19 16:00:00\n",
       "\n",
       "[684 rows x 2 columns]"
      ]
     },
     "execution_count": 240,
     "metadata": {},
     "output_type": "execute_result"
    }
   ],
   "source": [
    "df_0_last"
   ]
  },
  {
   "cell_type": "code",
   "execution_count": 241,
   "metadata": {},
   "outputs": [],
   "source": [
    "dfs = [df_0_last,df_1_last,df_2_last,df_3_last,df_4_last,df_5_last,df_6_last,df_7_last,df_8_last,df_9_last]"
   ]
  },
  {
   "cell_type": "code",
   "execution_count": 242,
   "metadata": {},
   "outputs": [
    {
     "name": "stdout",
     "output_type": "stream",
     "text": [
      "                     ds   y\n",
      "0   2017-08-20 08:00:00 NaN\n",
      "1   2017-08-20 09:00:00 NaN\n",
      "2   2017-08-20 10:00:00 NaN\n",
      "3   2017-08-20 11:00:00 NaN\n",
      "4   2017-08-20 12:00:00 NaN\n",
      "..                  ...  ..\n",
      "148 2017-08-26 12:00:00 NaN\n",
      "149 2017-08-26 13:00:00 NaN\n",
      "150 2017-08-26 14:00:00 NaN\n",
      "151 2017-08-26 15:00:00 NaN\n",
      "152 2017-08-26 16:00:00 NaN\n",
      "\n",
      "[63 rows x 2 columns]\n"
     ]
    }
   ],
   "source": [
    "dates = pd.date_range(start='2017-08-20 08:00:00', end='2017-08-26 16:00:00', freq='H')\n",
    "df = pd.DataFrame(dates, columns=['ds'])\n",
    "df['day'] = df['ds'].dt.date\n",
    "\n",
    "# Filter the hours between 08:00:00 and 16:00:00\n",
    "df = df[(df['ds'].dt.hour >= 8) & (df['ds'].dt.hour <= 16)]\n",
    "\n",
    "grouped = df.groupby(df['day'])\n",
    "time_series_list = [grouped.get_group(x) for x in grouped.groups]\n",
    "df_pred = pd.DataFrame(pd.concat(time_series_list)).drop('day' , axis = 1)\n",
    "df_pred['y'] = np.nan\n",
    "print(df_pred)\n",
    "\n",
    "# for i, time_series in enumerate(time_series_list):\n",
    "#     print(f\"Time series {i+1}:\")\n",
    "#     print(time_series)\n"
   ]
  },
  {
   "cell_type": "code",
   "execution_count": 243,
   "metadata": {},
   "outputs": [
    {
     "name": "stderr",
     "output_type": "stream",
     "text": [
      "01:26:22 - cmdstanpy - INFO - Chain [1] start processing\n",
      "01:26:22 - cmdstanpy - INFO - Chain [1] done processing\n",
      "01:26:23 - cmdstanpy - INFO - Chain [1] start processing\n",
      "01:26:23 - cmdstanpy - INFO - Chain [1] done processing\n",
      "01:26:24 - cmdstanpy - INFO - Chain [1] start processing\n",
      "01:26:24 - cmdstanpy - INFO - Chain [1] done processing\n",
      "01:26:24 - cmdstanpy - INFO - Chain [1] start processing\n",
      "01:26:25 - cmdstanpy - INFO - Chain [1] done processing\n",
      "01:26:25 - cmdstanpy - INFO - Chain [1] start processing\n",
      "01:26:25 - cmdstanpy - INFO - Chain [1] done processing\n",
      "01:26:26 - cmdstanpy - INFO - Chain [1] start processing\n",
      "01:26:26 - cmdstanpy - INFO - Chain [1] done processing\n",
      "01:26:27 - cmdstanpy - INFO - Chain [1] start processing\n",
      "01:26:27 - cmdstanpy - INFO - Chain [1] done processing\n",
      "01:26:27 - cmdstanpy - INFO - Chain [1] start processing\n",
      "01:26:27 - cmdstanpy - INFO - Chain [1] done processing\n",
      "01:26:28 - cmdstanpy - INFO - Chain [1] start processing\n",
      "01:26:28 - cmdstanpy - INFO - Chain [1] done processing\n",
      "01:26:29 - cmdstanpy - INFO - Chain [1] start processing\n",
      "01:26:29 - cmdstanpy - INFO - Chain [1] done processing\n"
     ]
    }
   ],
   "source": [
    "i = 0\n",
    "for df in dfs:\n",
    "    df['ds'] = df.index\n",
    "    df = df.iloc[:,[1,0]]\n",
    "    df.rename(columns = {'usage':'y'} , inplace=True)\n",
    "    df.reset_index(inplace=True , drop = True)\n",
    "    # Create a new Prophet model\n",
    "    model = Prophet()\n",
    "\n",
    "    # Fit the model to the training data\n",
    "    model.fit(df)\n",
    "\n",
    "    # Make predictions on the test data\n",
    "    exec(f\"visual_pred_{i} = model.predict(df_pred[['ds']])\")\n",
    "    exec(f\"forecast_pred_{i} = model.predict(df_pred[['ds']]).yhat\")\n",
    "    exec(f\"df_pred_{i} = (pd.DataFrame(list(forecast_pred_{i}) , columns=['Predicts'] ,  index = df_pred.ds)).reset_index()\")\n",
    "    \n",
    "    i += 1\n"
   ]
  },
  {
   "cell_type": "code",
   "execution_count": 245,
   "metadata": {},
   "outputs": [
    {
     "data": {
      "image/png": "[encoded data removed]",
      "text/plain": [
       "<Figure size 1000x600 with 1 Axes>"
      ]
     },
     "metadata": {},
     "output_type": "display_data"
    },
    {
     "data": {
      "image/png": "[encoded data removed]",
      "text/plain": [
       "<Figure size 900x900 with 3 Axes>"
      ]
     },
     "metadata": {},
     "output_type": "display_data"
    }
   ],
   "source": [
    "model.plot(visual_pred_0 , xlabel = 'Municipality 0 \\nDate' , ylabel = 'Municipality 0 \\nBus Usage' );\n",
    "model.plot_components(visual_pred_0);"
   ]
  },
  {
   "cell_type": "code",
   "execution_count": 246,
   "metadata": {},
   "outputs": [
    {
     "data": {
      "image/png": "[encoded data removed]",
      "text/plain": [
       "<Figure size 1000x600 with 1 Axes>"
      ]
     },
     "metadata": {},
     "output_type": "display_data"
    },
    {
     "data": {
      "image/png": "[encoded data removed]",
      "text/plain": [
       "<Figure size 900x900 with 3 Axes>"
      ]
     },
     "metadata": {},
     "output_type": "display_data"
    }
   ],
   "source": [
    "model.plot(visual_pred_1 , xlabel = 'Municipality 1 \\nDate' , ylabel = 'Municipality 1 \\nBus Usage' );\n",
    "model.plot_components(visual_pred_1);"
   ]
  },
  {
   "cell_type": "code",
   "execution_count": null,
   "metadata": {},
   "outputs": [],
   "source": [
    "# Not done but I'm done for now :)"
   ]
  },
  {
   "cell_type": "code",
   "execution_count": null,
   "metadata": {},
   "outputs": [],
   "source": []
  },
  {
   "cell_type": "code",
   "execution_count": null,
   "metadata": {},
   "outputs": [],
   "source": []
  },
  {
   "cell_type": "code",
   "execution_count": null,
   "metadata": {},
   "outputs": [],
   "source": []
  },
  {
   "attachments": {},
   "cell_type": "markdown",
   "metadata": {},
   "source": [
    "# Problems I've found so far"
   ]
  },
  {
   "cell_type": "code",
   "execution_count": null,
   "metadata": {},
   "outputs": [],
   "source": [
    "# 1) Either the total_capacity of the municipality with id number 1 was entered incorrectly or the usage information of 229 data was entered incorrectly.(\n",
    "# 1.Option --> Since there is not a big difference, we can assume that a few buses are rented by that municipality. \n",
    "# 2.Option --> Or we can think that the buses are counted incorrectly and it will be impossible to exceed the total capacity, and we can equal the ones that exceed the capacity to the upper limit.)\n",
    "\n",
    "\n",
    "# 2) The time of 2 data was entered incorrectly (Solved correct data entered)\n",
    "# 3) dtype of timestap feature was object (Solved dtype changed)\n",
    "# 4) There is quite a bit of data and measurements for 7 o'clock. There is so little data, probably because the buses starts just towards those hours. (Solved +5 minutes and 10 seconds added.)\n",
    "\n",
    "\n",
    "# 5) While 180 measurements were required, 170 measurements were made at 5 days. (Counting was made 1 time, not 2 times, at the 8th hour of those who were 170) (180 or 170, it doesn't matter)\n",
    "\n",
    "# 6) On 30 June, 340 measurements were made while it should have been 180. There are datas where 2 measurements are made at intervals of a few seconds. \n",
    "# (One of the measurements made at the same minute is deleted. Second measurements are kept)\n",
    "\n",
    "# 7) We have 18 nan days to handle. (Total 162 hours)\n"
   ]
  }
 ],
 "metadata": {
  "kernelspec": {
   "display_name": "Python 3",
   "language": "python",
   "name": "python3"
  },
  "language_info": {
   "codemirror_mode": {
    "name": "ipython",
    "version": 3
   },
   "file_extension": ".py",
   "mimetype": "text/x-python",
   "name": "python",
   "nbconvert_exporter": "python",
   "pygments_lexer": "ipython3",
   "version": "3.10.9"
  },
  "orig_nbformat": 4,
  "vscode": {
   "interpreter": {
    "hash": "aa38ca2d4ac5334f8facb9127846041594939b57ea42b4afe5d7eb655aac64f1"
   }
  }
 },
 "nbformat": 4,
 "nbformat_minor": 2
}
